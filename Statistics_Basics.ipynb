{
  "nbformat": 4,
  "nbformat_minor": 0,
  "metadata": {
    "colab": {
      "provenance": []
    },
    "kernelspec": {
      "name": "python3",
      "display_name": "Python 3"
    },
    "language_info": {
      "name": "python"
    }
  },
  "cells": [
    {
      "cell_type": "markdown",
      "source": [
        "**Q1.Explain the different types of data (qualitative and quantitative) and provide examples of each. Discuss nominal, ordinal, interval, and ratio scales.**"
      ],
      "metadata": {
        "id": "ipuouM7nu0KI"
      }
    },
    {
      "cell_type": "markdown",
      "source": [
        "Ans.Two Main Types of Data:\n",
        "\n",
        "1.Qualitative Data (Categorical)\n",
        "  \n",
        "    *Describes qualities or characteristics.\n",
        "\n",
        "    *Cannot be measured in numbers, only categorized.\n",
        "\n",
        "a. Nominal Scale (Named Categories)\n",
        "\n",
        "    Data is labeled or named without any order.\n",
        "\n",
        "    No ranking or meaningful comparison between values.\n",
        "\n",
        "    Examples:\n",
        "\n",
        "    Gender (Male, Female, Other)\n",
        "\n",
        "b. Ordinal Scale (Ordered Categories)\n",
        "\n",
        "    Data is categorized with a meaningful order, but the intervals are not uniform or known.\n",
        "\n",
        "    Ranking is possible, but you can’t tell how much more or less.\n",
        "\n",
        "    Examples:\n",
        "\n",
        "    Customer satisfaction (Poor, Fair, Good, Excellent)\n",
        "\n",
        "\n",
        "2.Quantitative Data (Numerical)\n",
        "\n",
        "\n",
        "    Describes numeric values that can be measured or counted.\n",
        "\n",
        "    Allows for meaningful mathematical operations.\n",
        "\n",
        "a.Interval Scale\n",
        "\n",
        "    Ordered data with equal intervals between values.\n",
        "\n",
        "    No true zero point, so ratios are meaningless.\n",
        "\n",
        "    Examples:\n",
        "\n",
        "    Temperature in Celsius or Fahrenheit (e.g., 10°C is not “twice as hot” as 5°C)\n",
        "\n",
        "    Dates on a calendar (e.g., 2000, 2010)\n",
        "\n",
        "b.Ratio Scale\n",
        "\n",
        "    Like interval scale, but has a true zero, allowing for all mathematical operations including ratios.\n",
        "\n",
        "    Examples:\n",
        "\n",
        "    Height (e.g., 180 cm)\n",
        "\n",
        "    Weight (e.g., 70 kg)"
      ],
      "metadata": {
        "id": "jDCs98EWvLcg"
      }
    },
    {
      "cell_type": "markdown",
      "source": [
        "**Q2. What are the measures of central tendency, and when should you use each? Discuss the mean, median, and mode with examples and situations where each is appropriate.**"
      ],
      "metadata": {
        "id": "12Clst5Fw1-f"
      }
    },
    {
      "cell_type": "markdown",
      "source": [
        "Ans.Measures of central tendency describe the center or typical value in a dataset. The three main measures are:\n",
        "\n",
        "1.Mean (Average) = Sum of all values divided by the number of values.\n",
        "\n",
        "When to use:\n",
        "\n",
        "    Data is quantitative\n",
        "\n",
        "    Distribution is symmetrical, no extreme outliers\n",
        "\n",
        "2.Median (Middle value):The middle value when data is arranged in order.\n",
        "If even number of values: average of the two middle ones.\n",
        "\n",
        "When to use:\n",
        "\n",
        "    Data is skewed\n",
        "\n",
        "    There are outliers\n",
        "\n",
        "    You want the central point unaffected by extremes\n",
        "\n",
        "3.Mode (Most frequent value):The value that appears most frequently.\n",
        "\n",
        "When to use:\n",
        "\n",
        "    For categorical or nominal data (mean/median don’t make sense)\n",
        "\n",
        "    To find the most common value"
      ],
      "metadata": {
        "id": "aDHuH7dzw5xO"
      }
    },
    {
      "cell_type": "markdown",
      "source": [
        "**Q3.Explain the concept of dispersion. How do variance and standard deviation measure the spread of data?**"
      ],
      "metadata": {
        "id": "XNHiMqsvx33B"
      }
    },
    {
      "cell_type": "markdown",
      "source": [
        "Ans.Dispersion refers to the spread or variability of data in a dataset. It tells us how much the data values differ from each other and from the central tendency (like the mean).\n",
        "\n",
        "\n",
        "1.Variance (σ² or s²):Variance measures the average squared deviation of each data point from the mean.\n",
        "\n",
        "2.Standard Deviation (σ or s):Standard deviation is the square root of the variance.\n",
        "It brings the unit back to the original scale of the data.\n"
      ],
      "metadata": {
        "id": "1xBQAoGAyIek"
      }
    },
    {
      "cell_type": "markdown",
      "source": [
        "**Q4.What is a box plot, and what can it tell you about the distribution of data?**"
      ],
      "metadata": {
        "id": "UXIDlVrqy3cT"
      }
    },
    {
      "cell_type": "markdown",
      "source": [
        "Ans.A box plot (also called a box-and-whisker plot) is a graphical summary of a dataset that shows its distribution, central value, and variability in a compact format."
      ],
      "metadata": {
        "id": "1D4MriSBy8_Z"
      }
    },
    {
      "cell_type": "markdown",
      "source": [
        "**Q5.Discuss the role of random sampling in making inferences about populations.**"
      ],
      "metadata": {
        "id": "87FQ6lvfzNp-"
      }
    },
    {
      "cell_type": "markdown",
      "source": [
        "Ans.Random sampling is a technique where each member of the population has an equal chance of being selected to be part of the sample.\n",
        "\n",
        "In statistics, we often want to make inferences about a population (e.g., \"What’s the average income of adults in a city?\") — but collecting data from the entire population is usually impractical.\n",
        "\n",
        "Instead, we:\n",
        "\n",
        "    Select a random sample from the population.\n",
        "\n",
        "    Calculate statistics (e.g., mean, proportion) from the sample.\n",
        "\n",
        "    Use those statistics to make educated guesses (inferences) about the population."
      ],
      "metadata": {
        "id": "F2SMwHVbzScK"
      }
    },
    {
      "cell_type": "markdown",
      "source": [
        "**Q6. Explain the concept of skewness and its types. How does skewness affect the interpretation of data?**"
      ],
      "metadata": {
        "id": "lwadACRu0Dfn"
      }
    },
    {
      "cell_type": "markdown",
      "source": [
        "Ans.Skewness is a measure of the asymmetry of a probability distribution or dataset around its mean.\n",
        "\n",
        "    A distribution is symmetrical if its left and right sides are mirror images.\n",
        "\n",
        "    If the distribution is not symmetrical, it's said to be skewed."
      ],
      "metadata": {
        "id": "H95P96a-0ILE"
      }
    },
    {
      "cell_type": "markdown",
      "source": [
        "**Q7.What is the interquartile range (IQR), and how is it used to detect outliers?**"
      ],
      "metadata": {
        "id": "MJkx_k851SAk"
      }
    },
    {
      "cell_type": "markdown",
      "source": [
        "Ans.The Interquartile Range (IQR) is a measure of statistical dispersion, or how spread out the middle 50% of the data is.\n",
        "\n",
        "Definition:\n",
        "\n",
        "    IQR = 𝑄3 − 𝑄1\n",
        "\n",
        "Q1 (First Quartile): The value below which 25% of the data lies.\n",
        "\n",
        "Q3 (Third Quartile): The value below which 75% of the data lies.\n",
        "\n",
        "So the IQR measures the range between the 25th percentile and the 75th percentile.\n",
        "\n",
        "How is IQR Used to Detect Outliers?\n",
        "\n",
        "Outliers are values that are much smaller or larger than the rest of the data.\n",
        "\n",
        "We can define outlier thresholds using the IQR:\n",
        "\n",
        "    Lower Bound = Q1 − 1.5 × IQR\n",
        "\n",
        "    Upper Bound = Q3 + 1.5 × IQR"
      ],
      "metadata": {
        "id": "cpaVEypl1W7n"
      }
    },
    {
      "cell_type": "markdown",
      "source": [
        "**Q8.Discuss the conditions under which the binomial distribution is used.**"
      ],
      "metadata": {
        "id": "nZivTgqc2FHK"
      }
    },
    {
      "cell_type": "markdown",
      "source": [
        "Ans.The binomial distribution is a discrete probability distribution used to model the number of successes in a fixed number of independent trials, where each trial has only two possible outcomes: success or failure."
      ],
      "metadata": {
        "id": "AYRxfe9A2KaL"
      }
    },
    {
      "cell_type": "markdown",
      "source": [
        "**Q9. Explain the properties of the normal distribution and the empirical rule (68-95-99.7 rule).**"
      ],
      "metadata": {
        "id": "bpeXgQ3y2RK8"
      }
    },
    {
      "cell_type": "markdown",
      "source": [
        "**Q10.Provide a real-life example of a Poisson process and calculate the probability for a specific event.**"
      ],
      "metadata": {
        "id": "hTmdFR322URJ"
      }
    },
    {
      "cell_type": "markdown",
      "source": [
        "**Q11.Explain what a random variable is and differentiate between discrete and continuous random variables.**"
      ],
      "metadata": {
        "id": "srW4j1AZ2W2C"
      }
    },
    {
      "cell_type": "markdown",
      "source": [
        "Ans.A random variable is a numerical quantity whose value depends on the outcome of a random event.\n",
        "\n",
        "Types of Random Variables:\n",
        "\n",
        "1.Discrete Random Variable\n",
        "\n",
        "A discrete random variable takes on countable values — often whole numbers.\n",
        "\n",
        "    Possible values can be listed.\n",
        "\n",
        "    Often result from counting.\n",
        "\n",
        "2.Continuous Random Variable\n",
        "\n",
        "A continuous random variable takes on infinitely many possible values within an interval. The values are measurable — not countable.\n",
        "\n",
        "    Often result from measuring.\n",
        "\n",
        "    Values can include fractions and decimals."
      ],
      "metadata": {
        "id": "nMptc-do2iwB"
      }
    },
    {
      "cell_type": "markdown",
      "source": [
        "**Q12.Provide an example dataset, calculate both covariance and correlation, and interpret the results.**"
      ],
      "metadata": {
        "id": "XMGzhl7O3EbB"
      }
    },
    {
      "cell_type": "markdown",
      "source": [],
      "metadata": {
        "id": "sLu1semB3I4v"
      }
    }
  ]
}